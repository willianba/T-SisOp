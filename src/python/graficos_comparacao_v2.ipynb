{
 "cells": [
  {
   "cell_type": "code",
   "execution_count": 7,
   "metadata": {},
   "outputs": [],
   "source": [
    "import os\n",
    "import matplotlib.pyplot as plt\n",
    "import numpy as np"
   ]
  },
  {
   "cell_type": "code",
   "execution_count": 4,
   "metadata": {},
   "outputs": [],
   "source": [
    "seq_100 = []\n",
    "seq_200 = []\n",
    "seq_300 = []\n",
    "seq_400 = []\n",
    "seq_500 = []\n",
    "seq_600 = []\n",
    "seq_700 = []\n",
    "seq_800 = []\n",
    "seq_900 = []\n",
    "seq_1k  = []\n",
    "seq_1k1 = []\n",
    "seq_1k2 = []\n",
    "seq_1k3 = []\n",
    "seq_1k4 = []\n",
    "seq_1k5 = []\n",
    "seq_1k6 = []\n",
    "seq_1k7 = []\n",
    "seq_1k8 = []\n",
    "seq_1k9 = []\n",
    "seq_2k  = []"
   ]
  },
  {
   "cell_type": "code",
   "execution_count": 5,
   "metadata": {},
   "outputs": [],
   "source": [
    "arrays_seq = [\n",
    "    seq_100, seq_200, seq_300, seq_400, seq_500, seq_600, seq_700, seq_800, seq_900, seq_1k,\n",
    "    seq_1k1, seq_1k2, seq_1k3, seq_1k4, seq_1k5, seq_1k6, seq_1k7, seq_1k8, seq_1k9, seq_2k \n",
    "]"
   ]
  },
  {
   "cell_type": "code",
   "execution_count": 8,
   "metadata": {},
   "outputs": [],
   "source": [
    "os.chdir(\"../../tempos_sequencial\")"
   ]
  },
  {
   "cell_type": "code",
   "execution_count": 9,
   "metadata": {},
   "outputs": [],
   "source": [
    "times = []\n",
    "files = os.listdir(os.getcwd())\n",
    "\n",
    "for file in files:\n",
    "    with open(file) as f:\n",
    "        times.append([x.replace(\"\\n\", \"\") for x in f.readlines()])"
   ]
  },
  {
   "cell_type": "code",
   "execution_count": 12,
   "metadata": {},
   "outputs": [],
   "source": [
    "for size in range(10):\n",
    "    for num in range(len(arrays_seq)):\n",
    "        arrays_seq[num].append(float(times[size][num]))"
   ]
  },
  {
   "cell_type": "code",
   "execution_count": 14,
   "metadata": {},
   "outputs": [],
   "source": [
    "min_values_seq = [min(seq_100), min(seq_200), min(seq_300), min(seq_400), min(seq_500), min(seq_600), min(seq_700), min(seq_800), min(seq_900), min(seq_1k),\n",
    "              min(seq_1k1), min(seq_1k2), min(seq_1k3), min(seq_1k4), min(seq_1k5), min(seq_1k6), min(seq_1k7), min(seq_1k8), min(seq_1k9), min(seq_2k)]\n",
    "avr_values_seq = [np.average(seq_100), np.average(seq_200), np.average(seq_300), np.average(seq_400), np.average(seq_500), np.average(seq_600), np.average(seq_700), np.average(seq_800), np.average(seq_900), np.average(seq_1k),\n",
    "              np.average(seq_1k1), np.average(seq_1k2), np.average(seq_1k3), np.average(seq_1k4), np.average(seq_1k5), np.average(seq_1k6), np.average(seq_1k7), np.average(seq_1k8), np.average(seq_1k9), np.average(seq_2k)]\n",
    "max_values_seq = [max(seq_100), max(seq_200), max(seq_300), max(seq_400), max(seq_500), max(seq_600), max(seq_700), max(seq_800), max(seq_900), max(seq_1k),\n",
    "              max(seq_1k1), max(seq_1k2), max(seq_1k3), max(seq_1k4), max(seq_1k5), max(seq_1k6), max(seq_1k7), max(seq_1k8), max(seq_1k9), max(seq_2k)]"
   ]
  },
  {
   "cell_type": "code",
   "execution_count": 15,
   "metadata": {},
   "outputs": [],
   "source": [
    "thr2_100 = []\n",
    "thr2_200 = []\n",
    "thr2_300 = []\n",
    "thr2_400 = []\n",
    "thr2_500 = []\n",
    "thr2_600 = []\n",
    "thr2_700 = []\n",
    "thr2_800 = []\n",
    "thr2_900 = []\n",
    "thr2_1k  = []\n",
    "thr2_1k1 = []\n",
    "thr2_1k2 = []\n",
    "thr2_1k3 = []\n",
    "thr2_1k4 = []\n",
    "thr2_1k5 = []\n",
    "thr2_1k6 = []\n",
    "thr2_1k7 = []\n",
    "thr2_1k8 = []\n",
    "thr2_1k9 = []\n",
    "thr2_2k  = []"
   ]
  },
  {
   "cell_type": "code",
   "execution_count": 16,
   "metadata": {},
   "outputs": [],
   "source": [
    "arrays_thr2 = [ \n",
    "    thr2_100, thr2_200, thr2_300, thr2_400, thr2_500, thr2_600, thr2_700, thr2_800, thr2_900, thr2_1k,\n",
    "    thr2_1k1, thr2_1k2, thr2_1k3, thr2_1k4, thr2_1k5, thr2_1k6, thr2_1k7, thr2_1k8, thr2_1k9, thr2_2k\n",
    "]"
   ]
  },
  {
   "cell_type": "code",
   "execution_count": 18,
   "metadata": {},
   "outputs": [],
   "source": [
    "os.chdir(\"../tempos_paralelo\")"
   ]
  },
  {
   "cell_type": "code",
   "execution_count": 19,
   "metadata": {},
   "outputs": [],
   "source": [
    "times = []\n",
    "files = os.listdir(os.getcwd())\n",
    "\n",
    "for file in os.listdir(os.getcwd()):\n",
    "    with open(file) as f:\n",
    "        times.append([x.replace(\"\\n\", \"\") for x in f.readlines()])"
   ]
  },
  {
   "cell_type": "code",
   "execution_count": 21,
   "metadata": {},
   "outputs": [],
   "source": [
    "for size in range(10):\n",
    "    for num in range(20):\n",
    "        arrays_thr2[num].append(float(times[size][num]))"
   ]
  },
  {
   "cell_type": "code",
   "execution_count": 22,
   "metadata": {},
   "outputs": [],
   "source": [
    "min_values_thr2 = [min(thr2_100), min(thr2_200), min(thr2_300), min(thr2_400), min(thr2_500), min(thr2_600), min(thr2_700), min(thr2_800), min(thr2_900), min(thr2_1k),\n",
    "              min(thr2_1k1), min(thr2_1k2), min(thr2_1k3), min(thr2_1k4), min(thr2_1k5), min(thr2_1k6), min(thr2_1k7), min(thr2_1k8), min(thr2_1k9), min(thr2_2k)]\n",
    "avr_values_thr2 = [np.average(thr2_100), np.average(thr2_200), np.average(thr2_300), np.average(thr2_400), np.average(thr2_500), np.average(thr2_600), np.average(thr2_700), np.average(thr2_800), np.average(thr2_900), np.average(thr2_1k),\n",
    "              np.average(thr2_1k1), np.average(thr2_1k2), np.average(thr2_1k3), np.average(thr2_1k4), np.average(thr2_1k5), np.average(thr2_1k6), np.average(thr2_1k7), np.average(thr2_1k8), np.average(thr2_1k9), np.average(thr2_2k)]\n",
    "max_values_thr2 = [max(thr2_100), max(thr2_200), max(thr2_300), max(thr2_400), max(thr2_500), max(thr2_600), max(thr2_700), max(thr2_800), max(thr2_900), max(thr2_1k),\n",
    "              max(thr2_1k1), max(thr2_1k2), max(thr2_1k3), max(thr2_1k4), max(thr2_1k5), max(thr2_1k6), max(thr2_1k7), max(thr2_1k8), max(thr2_1k9), max(thr2_2k)]"
   ]
  },
  {
   "cell_type": "code",
   "execution_count": 23,
   "metadata": {},
   "outputs": [],
   "source": [
    "thr4_100 = []\n",
    "thr4_200 = []\n",
    "thr4_300 = []\n",
    "thr4_400 = []\n",
    "thr4_500 = []\n",
    "thr4_600 = []\n",
    "thr4_700 = []\n",
    "thr4_800 = []\n",
    "thr4_900 = []\n",
    "thr4_1k  = []\n",
    "thr4_1k1 = []\n",
    "thr4_1k2 = []\n",
    "thr4_1k3 = []\n",
    "thr4_1k4 = []\n",
    "thr4_1k5 = []\n",
    "thr4_1k6 = []\n",
    "thr4_1k7 = []\n",
    "thr4_1k8 = []\n",
    "thr4_1k9 = []\n",
    "thr4_2k  = []"
   ]
  },
  {
   "cell_type": "code",
   "execution_count": 24,
   "metadata": {},
   "outputs": [],
   "source": [
    "arrays_thr4 = [ \n",
    "    thr4_100, thr4_200, thr4_300, thr4_400, thr4_500, thr4_600, thr4_700, thr4_800, thr4_900, thr4_1k,\n",
    "    thr4_1k1, thr4_1k2, thr4_1k3, thr4_1k4, thr4_1k5, thr4_1k6, thr4_1k7, thr4_1k8, thr4_1k9, thr4_2k\n",
    "]"
   ]
  },
  {
   "cell_type": "code",
   "execution_count": 25,
   "metadata": {},
   "outputs": [],
   "source": [
    "times = []\n",
    "files = os.listdir(os.getcwd())\n",
    "       \n",
    "for file in files:\n",
    "    with open(file) as f:\n",
    "        times.append([x.replace(\"\\n\", \"\") for x in f.readlines()])"
   ]
  },
  {
   "cell_type": "code",
   "execution_count": 27,
   "metadata": {},
   "outputs": [],
   "source": [
    "for size in range(10):\n",
    "    count = 20\n",
    "    for num in range(len(arrays_thr4)):\n",
    "        arrays_thr4[num].append(float(times[size][count]))\n",
    "        count += 1"
   ]
  },
  {
   "cell_type": "code",
   "execution_count": 28,
   "metadata": {},
   "outputs": [],
   "source": [
    "min_values_thr4 = [min(thr4_100), min(thr4_200), min(thr4_300), min(thr4_400), min(thr4_500), min(thr4_600), min(thr4_700), min(thr4_800), min(thr4_900), min(thr4_1k),\n",
    "              min(thr4_1k1), min(thr4_1k2), min(thr4_1k3), min(thr4_1k4), min(thr4_1k5), min(thr4_1k6), min(thr4_1k7), min(thr4_1k8), min(thr4_1k9), min(thr4_2k)]\n",
    "avr_values_thr4 = [np.average(thr4_100), np.average(thr4_200), np.average(thr4_300), np.average(thr4_400), np.average(thr4_500), np.average(thr4_600), np.average(thr4_700), np.average(thr4_800), np.average(thr4_900), np.average(thr4_1k),\n",
    "              np.average(thr4_1k1), np.average(thr4_1k2), np.average(thr4_1k3), np.average(thr4_1k4), np.average(thr4_1k5), np.average(thr4_1k6), np.average(thr4_1k7), np.average(thr4_1k8), np.average(thr4_1k9), np.average(thr4_2k)]\n",
    "max_values_thr4 = [max(thr4_100), max(thr4_200), max(thr4_300), max(thr4_400), max(thr4_500), max(thr4_600), max(thr4_700), max(thr4_800), max(thr4_900), max(thr4_1k),\n",
    "              max(thr4_1k1), max(thr4_1k2), max(thr4_1k3), max(thr4_1k4), max(thr4_1k5), max(thr4_1k6), max(thr4_1k7), max(thr4_1k8), max(thr4_1k9), max(thr4_2k)]"
   ]
  },
  {
   "cell_type": "code",
   "execution_count": 29,
   "metadata": {},
   "outputs": [],
   "source": [
    "thr8_100 = []\n",
    "thr8_200 = []\n",
    "thr8_300 = []\n",
    "thr8_400 = []\n",
    "thr8_500 = []\n",
    "thr8_600 = []\n",
    "thr8_700 = []\n",
    "thr8_800 = []\n",
    "thr8_900 = []\n",
    "thr8_1k  = []\n",
    "thr8_1k1 = []\n",
    "thr8_1k2 = []\n",
    "thr8_1k3 = []\n",
    "thr8_1k4 = []\n",
    "thr8_1k5 = []\n",
    "thr8_1k6 = []\n",
    "thr8_1k7 = []\n",
    "thr8_1k8 = []\n",
    "thr8_1k9 = []\n",
    "thr8_2k  = []"
   ]
  },
  {
   "cell_type": "code",
   "execution_count": 31,
   "metadata": {},
   "outputs": [],
   "source": [
    "arrays_thr8 = [ \n",
    "    thr8_100, thr8_200, thr8_300, thr8_400, thr8_500, thr8_600, thr8_700, thr8_800, thr8_900, thr8_1k,\n",
    "    thr8_1k1, thr8_1k2, thr8_1k3, thr8_1k4, thr8_1k5, thr8_1k6, thr8_1k7, thr8_1k8, thr8_1k9, thr8_2k\n",
    "]"
   ]
  },
  {
   "cell_type": "code",
   "execution_count": 32,
   "metadata": {},
   "outputs": [],
   "source": [
    "times = []\n",
    "files = os.listdir(os.getcwd())\n",
    "       \n",
    "for file in files:\n",
    "    with open(file) as f:\n",
    "        times.append([x.replace(\"\\n\", \"\") for x in f.readlines()])"
   ]
  },
  {
   "cell_type": "code",
   "execution_count": 33,
   "metadata": {},
   "outputs": [],
   "source": [
    "for size in range(10):\n",
    "    count = 40\n",
    "    for num in range(len(arrays)):\n",
    "        arrays[num].append(float(times[size][count]))\n",
    "        count += 1"
   ]
  },
  {
   "cell_type": "code",
   "execution_count": 34,
   "metadata": {},
   "outputs": [],
   "source": [
    "min_values_thr8 = [min(thr8_100), min(thr8_200), min(thr8_300), min(thr8_400), min(thr8_500), min(thr8_600), min(thr8_700), min(thr8_800), min(thr8_900), min(thr8_1k),\n",
    "              min(thr8_1k1), min(thr8_1k2), min(thr8_1k3), min(thr8_1k4), min(thr8_1k5), min(thr8_1k6), min(thr8_1k7), min(thr8_1k8), min(thr8_1k9), min(thr8_2k)]\n",
    "avr_values_thr8 = [np.average(thr8_100), np.average(thr8_200), np.average(thr8_300), np.average(thr8_400), np.average(thr8_500), np.average(thr8_600), np.average(thr8_700), np.average(thr8_800), np.average(thr8_900), np.average(thr8_1k),\n",
    "              np.average(thr8_1k1), np.average(thr8_1k2), np.average(thr8_1k3), np.average(thr8_1k4), np.average(thr8_1k5), np.average(thr8_1k6), np.average(thr8_1k7), np.average(thr8_1k8), np.average(thr8_1k9), np.average(thr8_2k)]\n",
    "max_values_thr8 = [max(thr8_100), max(thr8_200), max(thr8_300), max(thr8_400), max(thr8_500), max(thr8_600), max(thr8_700), max(thr8_800), max(thr8_900), max(thr8_1k),\n",
    "              max(thr8_1k1), max(thr8_1k2), max(thr8_1k3), max(thr8_1k4), max(thr8_1k5), max(thr8_1k6), max(thr8_1k7), max(thr8_1k8), max(thr8_1k9), max(thr8_2k)]"
   ]
  },
  {
   "cell_type": "code",
   "execution_count": 36,
   "metadata": {},
   "outputs": [
    {
     "data": {
      "image/png": "[encoded data removed]",
      "text/plain": [
       "<Figure size 864x360 with 1 Axes>"
      ]
     },
     "metadata": {
      "needs_background": "light"
     },
     "output_type": "display_data"
    }
   ],
   "source": [
    "fig, axes = plt.subplots(figsize=(12,5))\n",
    "\n",
    "axes.plot(avr_values_seq, label=\"sequencial (avr)\", color=\"blue\")\n",
    "axes.plot(avr_values_thr2, label=\"2 threads (avr)\", color=\"red\")\n",
    "axes.plot(avr_values_thr4, label=\"4 threads (avr)\", color=\"green\")\n",
    "axes.plot(avr_values_thr8, label=\"8 threads (avr)\", color=\"purple\")\n",
    "axes.set_ylabel(\"Tempo de execução (s)\")\n",
    "axes.set_xlabel(\"Tamanho matrizes\")\n",
    "axes.set_xticks(range(0,20))\n",
    "axes.set_xticklabels(range(100,2100,100))\n",
    "\n",
    "# custom grid appearance\n",
    "axes.grid(color='black', alpha=0.4, linestyle='dashed', linewidth=0.5)\n",
    "\n",
    "axes.legend()\n",
    "fig.savefig(\"grafico_comparacao.jpg\", dpi=200)"
   ]
  }
 ],
 "metadata": {
  "kernelspec": {
   "display_name": "Python 3",
   "language": "python",
   "name": "python3"
  },
  "language_info": {
   "codemirror_mode": {
    "name": "ipython",
    "version": 3
   },
   "file_extension": ".py",
   "mimetype": "text/x-python",
   "name": "python",
   "nbconvert_exporter": "python",
   "pygments_lexer": "ipython3",
   "version": "3.7.0"
  }
 },
 "nbformat": 4,
 "nbformat_minor": 2
}
